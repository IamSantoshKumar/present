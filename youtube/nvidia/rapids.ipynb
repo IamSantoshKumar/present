{
 "cells": [
  {
   "cell_type": "markdown",
   "metadata": {},
   "source": [
    "# Installing and Testing RAPIDS\n",
    "\n",
    "* [RAPIDS](https://rapids.ai/start.html)\n",
    "\n",
    "**First, create a CONDA environment**\n",
    "\n",
    "```\n",
    "conda create --name rapidsai python=3.7\n",
    "conda activate rapidsai\n",
    "```\n",
    "\n",
    "**Second, install RAPIDS**\n",
    "\n",
    "```\n",
    "\n",
    "conda install -c rapidsai -c nvidia -c conda-forge \\\n",
    "    -c defaults rapids=0.15 python=3.7 cudatoolkit=10.1\n",
    "```\n",
    "\n",
    "**Third, link environment to Jupyter**\n",
    "\n",
    "```\n",
    "conda install nb_conda\n",
    "python -m ipykernel install --user --name rapidsai --display-name \"Python 3.7 (rapidsai)\"\n",
    "```\n",
    "\n",
    "\n",
    "**Fourth, test**\n",
    "The following code tests a basic RAPIDS environment."
   ]
  },
  {
   "cell_type": "code",
   "execution_count": 3,
   "metadata": {},
   "outputs": [
    {
     "name": "stdout",
     "output_type": "stream",
     "text": [
      "5.843333333333334\n",
      "3.0573333333333332\n",
      "3.7580000000000005\n",
      "1.1993333333333331\n"
     ]
    }
   ],
   "source": [
    "import cudf\n",
    "gdf = cudf.read_csv('https://data.heatonresearch.com/data/t81-558/iris.csv')\n",
    "for column in ['sepal_l', 'sepal_w', 'petal_l', 'petal_w']:\n",
    "    print(gdf[column].mean())"
   ]
  },
  {
   "cell_type": "code",
   "execution_count": 2,
   "metadata": {},
   "outputs": [
    {
     "data": {
      "text/html": [
       "<div>\n",
       "<style scoped>\n",
       "    .dataframe tbody tr th:only-of-type {\n",
       "        vertical-align: middle;\n",
       "    }\n",
       "\n",
       "    .dataframe tbody tr th {\n",
       "        vertical-align: top;\n",
       "    }\n",
       "\n",
       "    .dataframe thead th {\n",
       "        text-align: right;\n",
       "    }\n",
       "</style>\n",
       "<table border=\"1\" class=\"dataframe\">\n",
       "  <thead>\n",
       "    <tr style=\"text-align: right;\">\n",
       "      <th></th>\n",
       "      <th>sepal_l</th>\n",
       "      <th>sepal_w</th>\n",
       "      <th>petal_l</th>\n",
       "      <th>petal_w</th>\n",
       "      <th>species</th>\n",
       "    </tr>\n",
       "  </thead>\n",
       "  <tbody>\n",
       "    <tr>\n",
       "      <th>0</th>\n",
       "      <td>5.1</td>\n",
       "      <td>3.5</td>\n",
       "      <td>1.4</td>\n",
       "      <td>0.2</td>\n",
       "      <td>Iris-setosa</td>\n",
       "    </tr>\n",
       "    <tr>\n",
       "      <th>1</th>\n",
       "      <td>4.9</td>\n",
       "      <td>3.0</td>\n",
       "      <td>1.4</td>\n",
       "      <td>0.2</td>\n",
       "      <td>Iris-setosa</td>\n",
       "    </tr>\n",
       "    <tr>\n",
       "      <th>2</th>\n",
       "      <td>4.7</td>\n",
       "      <td>3.2</td>\n",
       "      <td>1.3</td>\n",
       "      <td>0.2</td>\n",
       "      <td>Iris-setosa</td>\n",
       "    </tr>\n",
       "    <tr>\n",
       "      <th>3</th>\n",
       "      <td>4.6</td>\n",
       "      <td>3.1</td>\n",
       "      <td>1.5</td>\n",
       "      <td>0.2</td>\n",
       "      <td>Iris-setosa</td>\n",
       "    </tr>\n",
       "    <tr>\n",
       "      <th>4</th>\n",
       "      <td>5.0</td>\n",
       "      <td>3.6</td>\n",
       "      <td>1.4</td>\n",
       "      <td>0.2</td>\n",
       "      <td>Iris-setosa</td>\n",
       "    </tr>\n",
       "    <tr>\n",
       "      <th>...</th>\n",
       "      <td>...</td>\n",
       "      <td>...</td>\n",
       "      <td>...</td>\n",
       "      <td>...</td>\n",
       "      <td>...</td>\n",
       "    </tr>\n",
       "    <tr>\n",
       "      <th>145</th>\n",
       "      <td>6.7</td>\n",
       "      <td>3.0</td>\n",
       "      <td>5.2</td>\n",
       "      <td>2.3</td>\n",
       "      <td>Iris-virginica</td>\n",
       "    </tr>\n",
       "    <tr>\n",
       "      <th>146</th>\n",
       "      <td>6.3</td>\n",
       "      <td>2.5</td>\n",
       "      <td>5.0</td>\n",
       "      <td>1.9</td>\n",
       "      <td>Iris-virginica</td>\n",
       "    </tr>\n",
       "    <tr>\n",
       "      <th>147</th>\n",
       "      <td>6.5</td>\n",
       "      <td>3.0</td>\n",
       "      <td>5.2</td>\n",
       "      <td>2.0</td>\n",
       "      <td>Iris-virginica</td>\n",
       "    </tr>\n",
       "    <tr>\n",
       "      <th>148</th>\n",
       "      <td>6.2</td>\n",
       "      <td>3.4</td>\n",
       "      <td>5.4</td>\n",
       "      <td>2.3</td>\n",
       "      <td>Iris-virginica</td>\n",
       "    </tr>\n",
       "    <tr>\n",
       "      <th>149</th>\n",
       "      <td>5.9</td>\n",
       "      <td>3.0</td>\n",
       "      <td>5.1</td>\n",
       "      <td>1.8</td>\n",
       "      <td>Iris-virginica</td>\n",
       "    </tr>\n",
       "  </tbody>\n",
       "</table>\n",
       "<p>150 rows × 5 columns</p>\n",
       "</div>"
      ],
      "text/plain": [
       "     sepal_l  sepal_w  petal_l  petal_w         species\n",
       "0        5.1      3.5      1.4      0.2     Iris-setosa\n",
       "1        4.9      3.0      1.4      0.2     Iris-setosa\n",
       "2        4.7      3.2      1.3      0.2     Iris-setosa\n",
       "3        4.6      3.1      1.5      0.2     Iris-setosa\n",
       "4        5.0      3.6      1.4      0.2     Iris-setosa\n",
       "..       ...      ...      ...      ...             ...\n",
       "145      6.7      3.0      5.2      2.3  Iris-virginica\n",
       "146      6.3      2.5      5.0      1.9  Iris-virginica\n",
       "147      6.5      3.0      5.2      2.0  Iris-virginica\n",
       "148      6.2      3.4      5.4      2.3  Iris-virginica\n",
       "149      5.9      3.0      5.1      1.8  Iris-virginica\n",
       "\n",
       "[150 rows x 5 columns]"
      ]
     },
     "execution_count": 2,
     "metadata": {},
     "output_type": "execute_result"
    }
   ],
   "source": [
    "gdf"
   ]
  },
  {
   "cell_type": "markdown",
   "metadata": {},
   "source": [
    "# XGBoost on RAPIDS/DASK\n",
    "\n",
    "Based on this article: [A New, Official Dask API for XGBoost](https://medium.com/rapids-ai/a-new-official-dask-api-for-xgboost-e8b10f3d1eb7)\n",
    "\n",
    "To get the sample data:\n",
    "\n",
    "```\n",
    "wget https://archive.ics.uci.edu/ml/machine-learning-databases/00280/HIGGS.csv.gz\n",
    "```"
   ]
  },
  {
   "cell_type": "code",
   "execution_count": 4,
   "metadata": {},
   "outputs": [
    {
     "name": "stderr",
     "output_type": "stream",
     "text": [
      "/home/lenovo/miniconda3/lib/python3.7/site-packages/distributed/client.py:3530: RuntimeWarning: coroutine 'Client._update_scheduler_info' was never awaited\n",
      "  self.sync(self._update_scheduler_info)\n"
     ]
    },
    {
     "name": "stdout",
     "output_type": "stream",
     "text": [
      "Training evaluation history: {'train': {'rmse': [0.47604, 0.462175, 0.453842, 0.447357, 0.443491, 0.439899, 0.43716, 0.435319, 0.433487, 0.432348, 0.431212, 0.430249, 0.429489, 0.428774, 0.428301, 0.427275, 0.426828, 0.426515, 0.426069, 0.425665, 0.425394, 0.425144, 0.424518, 0.424256, 0.424035, 0.423768, 0.423607, 0.423324, 0.423079, 0.42295, 0.42277, 0.422627, 0.42251, 0.422321, 0.4221, 0.421926, 0.421681, 0.421544, 0.421409, 0.421262, 0.421097, 0.420947, 0.420819, 0.420764, 0.420622, 0.420424, 0.420327, 0.42021, 0.420122, 0.420039, 0.419905, 0.419762, 0.419576, 0.419435, 0.419317, 0.419108, 0.418989, 0.418819, 0.418703, 0.418612, 0.41855, 0.418478, 0.41844, 0.418402, 0.418369, 0.418184, 0.418119, 0.417994, 0.417904, 0.417679, 0.417484, 0.417386, 0.417255, 0.41722, 0.417125, 0.417071, 0.417037, 0.416833, 0.416762, 0.416721, 0.416675, 0.416573, 0.416519, 0.416475, 0.41643, 0.416398, 0.416371, 0.416355, 0.416288, 0.416167, 0.416147, 0.41612, 0.416086, 0.416055, 0.41598, 0.415902, 0.415815, 0.415685, 0.415537, 0.415455]}}\n"
     ]
    }
   ],
   "source": [
    "from dask.distributed import Client\n",
    "from dask_cuda import LocalCUDACluster\n",
    "from dask import dataframe as dd\n",
    "import xgboost as xgb\n",
    "import dask_cudf\n",
    "\n",
    "def main(client):\n",
    "    fname = 'HIGGS.csv'\n",
    "    colnames = [\"label\"] + [\"feature-%02d\" % i for i in range(1, 29)]\n",
    "    dask_df = dask_cudf.read_csv(fname, header=None, names=colnames)\n",
    "    y = dask_df[\"label\"]\n",
    "    X = dask_df[dask_df.columns.difference([\"label\"])]\n",
    "    dtrain = xgb.dask.DaskDMatrix(client, X, y)\n",
    "    \n",
    "    output = xgb.dask.train(client,\n",
    "                            {'tree_method': 'gpu_hist'},\n",
    "                            dtrain,\n",
    "                            num_boost_round=100,\n",
    "                            evals=[(dtrain, 'train')])\n",
    "    booster = output['booster']\n",
    "    history = output['history']  \n",
    "    booster.save_model('xgboost-model')\n",
    "    print('Training evaluation history:', history)\n",
    "\n",
    "\n",
    "\n",
    "if __name__ == '__main__':\n",
    "    with LocalCUDACluster(n_workers=1) as cluster:\n",
    "        with Client(cluster) as client:\n",
    "            main(client)"
   ]
  },
  {
   "cell_type": "code",
   "execution_count": null,
   "metadata": {},
   "outputs": [],
   "source": [
    "!ls HIGGS.csv"
   ]
  },
  {
   "cell_type": "code",
   "execution_count": null,
   "metadata": {},
   "outputs": [],
   "source": []
  }
 ],
 "metadata": {
  "kernelspec": {
   "display_name": "Python 3",
   "language": "python",
   "name": "python3"
  },
  "language_info": {
   "codemirror_mode": {
    "name": "ipython",
    "version": 3
   },
   "file_extension": ".py",
   "mimetype": "text/x-python",
   "name": "python",
   "nbconvert_exporter": "python",
   "pygments_lexer": "ipython3",
   "version": "3.7.8"
  }
 },
 "nbformat": 4,
 "nbformat_minor": 4
}
